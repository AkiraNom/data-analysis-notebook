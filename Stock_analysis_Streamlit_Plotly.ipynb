{
  "cells": [
    {
      "cell_type": "markdown",
      "metadata": {
        "id": "view-in-github",
        "colab_type": "text"
      },
      "source": [
        "<a href=\"https://colab.research.google.com/github/AkiraNom/data-analysis-notebook/blob/main/Stock_analysis_Streamlit_Plotly.ipynb\" target=\"_parent\"><img src=\"https://colab.research.google.com/assets/colab-badge.svg\" alt=\"Open In Colab\"/></a>"
      ]
    },
    {
      "cell_type": "code",
      "execution_count": 1,
      "metadata": {
        "id": "1yaj1mkvDR-H",
        "colab": {
          "base_uri": "https://localhost:8080/"
        },
        "outputId": "bc534d76-e755-41f5-fad1-86475d60e653"
      },
      "outputs": [
        {
          "output_type": "stream",
          "name": "stdout",
          "text": [
            "Collecting streamlit\n",
            "  Downloading streamlit-1.31.0-py2.py3-none-any.whl (8.4 MB)\n",
            "\u001b[2K     \u001b[90m━━━━━━━━━━━━━━━━━━━━━━━━━━━━━━━━━━━━━━━━\u001b[0m \u001b[32m8.4/8.4 MB\u001b[0m \u001b[31m17.7 MB/s\u001b[0m eta \u001b[36m0:00:00\u001b[0m\n",
            "\u001b[?25hRequirement already satisfied: altair<6,>=4.0 in /usr/local/lib/python3.10/dist-packages (from streamlit) (4.2.2)\n",
            "Requirement already satisfied: blinker<2,>=1.0.0 in /usr/lib/python3/dist-packages (from streamlit) (1.4)\n",
            "Requirement already satisfied: cachetools<6,>=4.0 in /usr/local/lib/python3.10/dist-packages (from streamlit) (5.3.2)\n",
            "Requirement already satisfied: click<9,>=7.0 in /usr/local/lib/python3.10/dist-packages (from streamlit) (8.1.7)\n",
            "Requirement already satisfied: importlib-metadata<8,>=1.4 in /usr/local/lib/python3.10/dist-packages (from streamlit) (7.0.1)\n",
            "Requirement already satisfied: numpy<2,>=1.19.3 in /usr/local/lib/python3.10/dist-packages (from streamlit) (1.23.5)\n",
            "Requirement already satisfied: packaging<24,>=16.8 in /usr/local/lib/python3.10/dist-packages (from streamlit) (23.2)\n",
            "Requirement already satisfied: pandas<3,>=1.3.0 in /usr/local/lib/python3.10/dist-packages (from streamlit) (1.5.3)\n",
            "Requirement already satisfied: pillow<11,>=7.1.0 in /usr/local/lib/python3.10/dist-packages (from streamlit) (9.4.0)\n",
            "Requirement already satisfied: protobuf<5,>=3.20 in /usr/local/lib/python3.10/dist-packages (from streamlit) (3.20.3)\n",
            "Requirement already satisfied: pyarrow>=7.0 in /usr/local/lib/python3.10/dist-packages (from streamlit) (10.0.1)\n",
            "Requirement already satisfied: python-dateutil<3,>=2.7.3 in /usr/local/lib/python3.10/dist-packages (from streamlit) (2.8.2)\n",
            "Requirement already satisfied: requests<3,>=2.27 in /usr/local/lib/python3.10/dist-packages (from streamlit) (2.31.0)\n",
            "Requirement already satisfied: rich<14,>=10.14.0 in /usr/local/lib/python3.10/dist-packages (from streamlit) (13.7.0)\n",
            "Requirement already satisfied: tenacity<9,>=8.1.0 in /usr/local/lib/python3.10/dist-packages (from streamlit) (8.2.3)\n",
            "Requirement already satisfied: toml<2,>=0.10.1 in /usr/local/lib/python3.10/dist-packages (from streamlit) (0.10.2)\n",
            "Requirement already satisfied: typing-extensions<5,>=4.3.0 in /usr/local/lib/python3.10/dist-packages (from streamlit) (4.9.0)\n",
            "Requirement already satisfied: tzlocal<6,>=1.1 in /usr/local/lib/python3.10/dist-packages (from streamlit) (5.2)\n",
            "Collecting validators<1,>=0.2 (from streamlit)\n",
            "  Downloading validators-0.22.0-py3-none-any.whl (26 kB)\n",
            "Collecting gitpython!=3.1.19,<4,>=3.0.7 (from streamlit)\n",
            "  Downloading GitPython-3.1.41-py3-none-any.whl (196 kB)\n",
            "\u001b[2K     \u001b[90m━━━━━━━━━━━━━━━━━━━━━━━━━━━━━━━━━━━━━━━━\u001b[0m \u001b[32m196.4/196.4 kB\u001b[0m \u001b[31m24.9 MB/s\u001b[0m eta \u001b[36m0:00:00\u001b[0m\n",
            "\u001b[?25hCollecting pydeck<1,>=0.8.0b4 (from streamlit)\n",
            "  Downloading pydeck-0.8.1b0-py2.py3-none-any.whl (4.8 MB)\n",
            "\u001b[2K     \u001b[90m━━━━━━━━━━━━━━━━━━━━━━━━━━━━━━━━━━━━━━━━\u001b[0m \u001b[32m4.8/4.8 MB\u001b[0m \u001b[31m36.0 MB/s\u001b[0m eta \u001b[36m0:00:00\u001b[0m\n",
            "\u001b[?25hRequirement already satisfied: tornado<7,>=6.0.3 in /usr/local/lib/python3.10/dist-packages (from streamlit) (6.3.2)\n",
            "Collecting watchdog>=2.1.5 (from streamlit)\n",
            "  Downloading watchdog-4.0.0-py3-none-manylinux2014_x86_64.whl (82 kB)\n",
            "\u001b[2K     \u001b[90m━━━━━━━━━━━━━━━━━━━━━━━━━━━━━━━━━━━━━━━━\u001b[0m \u001b[32m83.0/83.0 kB\u001b[0m \u001b[31m10.4 MB/s\u001b[0m eta \u001b[36m0:00:00\u001b[0m\n",
            "\u001b[?25hRequirement already satisfied: entrypoints in /usr/local/lib/python3.10/dist-packages (from altair<6,>=4.0->streamlit) (0.4)\n",
            "Requirement already satisfied: jinja2 in /usr/local/lib/python3.10/dist-packages (from altair<6,>=4.0->streamlit) (3.1.3)\n",
            "Requirement already satisfied: jsonschema>=3.0 in /usr/local/lib/python3.10/dist-packages (from altair<6,>=4.0->streamlit) (4.19.2)\n",
            "Requirement already satisfied: toolz in /usr/local/lib/python3.10/dist-packages (from altair<6,>=4.0->streamlit) (0.12.1)\n",
            "Collecting gitdb<5,>=4.0.1 (from gitpython!=3.1.19,<4,>=3.0.7->streamlit)\n",
            "  Downloading gitdb-4.0.11-py3-none-any.whl (62 kB)\n",
            "\u001b[2K     \u001b[90m━━━━━━━━━━━━━━━━━━━━━━━━━━━━━━━━━━━━━━━━\u001b[0m \u001b[32m62.7/62.7 kB\u001b[0m \u001b[31m8.7 MB/s\u001b[0m eta \u001b[36m0:00:00\u001b[0m\n",
            "\u001b[?25hRequirement already satisfied: zipp>=0.5 in /usr/local/lib/python3.10/dist-packages (from importlib-metadata<8,>=1.4->streamlit) (3.17.0)\n",
            "Requirement already satisfied: pytz>=2020.1 in /usr/local/lib/python3.10/dist-packages (from pandas<3,>=1.3.0->streamlit) (2023.4)\n",
            "Requirement already satisfied: six>=1.5 in /usr/local/lib/python3.10/dist-packages (from python-dateutil<3,>=2.7.3->streamlit) (1.16.0)\n",
            "Requirement already satisfied: charset-normalizer<4,>=2 in /usr/local/lib/python3.10/dist-packages (from requests<3,>=2.27->streamlit) (3.3.2)\n",
            "Requirement already satisfied: idna<4,>=2.5 in /usr/local/lib/python3.10/dist-packages (from requests<3,>=2.27->streamlit) (3.6)\n",
            "Requirement already satisfied: urllib3<3,>=1.21.1 in /usr/local/lib/python3.10/dist-packages (from requests<3,>=2.27->streamlit) (2.0.7)\n",
            "Requirement already satisfied: certifi>=2017.4.17 in /usr/local/lib/python3.10/dist-packages (from requests<3,>=2.27->streamlit) (2024.2.2)\n",
            "Requirement already satisfied: markdown-it-py>=2.2.0 in /usr/local/lib/python3.10/dist-packages (from rich<14,>=10.14.0->streamlit) (3.0.0)\n",
            "Requirement already satisfied: pygments<3.0.0,>=2.13.0 in /usr/local/lib/python3.10/dist-packages (from rich<14,>=10.14.0->streamlit) (2.16.1)\n",
            "Collecting smmap<6,>=3.0.1 (from gitdb<5,>=4.0.1->gitpython!=3.1.19,<4,>=3.0.7->streamlit)\n",
            "  Downloading smmap-5.0.1-py3-none-any.whl (24 kB)\n",
            "Requirement already satisfied: MarkupSafe>=2.0 in /usr/local/lib/python3.10/dist-packages (from jinja2->altair<6,>=4.0->streamlit) (2.1.5)\n",
            "Requirement already satisfied: attrs>=22.2.0 in /usr/local/lib/python3.10/dist-packages (from jsonschema>=3.0->altair<6,>=4.0->streamlit) (23.2.0)\n",
            "Requirement already satisfied: jsonschema-specifications>=2023.03.6 in /usr/local/lib/python3.10/dist-packages (from jsonschema>=3.0->altair<6,>=4.0->streamlit) (2023.12.1)\n",
            "Requirement already satisfied: referencing>=0.28.4 in /usr/local/lib/python3.10/dist-packages (from jsonschema>=3.0->altair<6,>=4.0->streamlit) (0.33.0)\n",
            "Requirement already satisfied: rpds-py>=0.7.1 in /usr/local/lib/python3.10/dist-packages (from jsonschema>=3.0->altair<6,>=4.0->streamlit) (0.17.1)\n",
            "Requirement already satisfied: mdurl~=0.1 in /usr/local/lib/python3.10/dist-packages (from markdown-it-py>=2.2.0->rich<14,>=10.14.0->streamlit) (0.1.2)\n",
            "Installing collected packages: watchdog, validators, smmap, pydeck, gitdb, gitpython, streamlit\n",
            "Successfully installed gitdb-4.0.11 gitpython-3.1.41 pydeck-0.8.1b0 smmap-5.0.1 streamlit-1.31.0 validators-0.22.0 watchdog-4.0.0\n"
          ]
        }
      ],
      "source": [
        "! pip install streamlit"
      ]
    },
    {
      "cell_type": "code",
      "execution_count": 2,
      "metadata": {
        "colab": {
          "base_uri": "https://localhost:8080/"
        },
        "id": "ngaMQ7i5HXKZ",
        "outputId": "8cfe3e7e-6e0b-438d-b703-8409ee04b0a7"
      },
      "outputs": [
        {
          "output_type": "stream",
          "name": "stdout",
          "text": [
            "\u001b[K\u001b[?25h\u001b[37;40mnpm\u001b[0m \u001b[0m\u001b[30;43mWARN\u001b[0m \u001b[0m\u001b[35msaveError\u001b[0m ENOENT: no such file or directory, open '/content/package.json'\n",
            "\u001b[K\u001b[?25h\u001b[37;40mnpm\u001b[0m \u001b[0m\u001b[34;40mnotice\u001b[0m\u001b[35m\u001b[0m created a lockfile as package-lock.json. You should commit this file.\n",
            "\u001b[0m\u001b[37;40mnpm\u001b[0m \u001b[0m\u001b[30;43mWARN\u001b[0m \u001b[0m\u001b[35menoent\u001b[0m ENOENT: no such file or directory, open '/content/package.json'\n",
            "\u001b[0m\u001b[37;40mnpm\u001b[0m \u001b[0m\u001b[30;43mWARN\u001b[0m\u001b[35m\u001b[0m content No description\n",
            "\u001b[0m\u001b[37;40mnpm\u001b[0m \u001b[0m\u001b[30;43mWARN\u001b[0m\u001b[35m\u001b[0m content No repository field.\n",
            "\u001b[0m\u001b[37;40mnpm\u001b[0m \u001b[0m\u001b[30;43mWARN\u001b[0m\u001b[35m\u001b[0m content No README data\n",
            "\u001b[0m\u001b[37;40mnpm\u001b[0m \u001b[0m\u001b[30;43mWARN\u001b[0m\u001b[35m\u001b[0m content No license field.\n",
            "\u001b[0m\n",
            "+ localtunnel@2.0.2\n",
            "added 22 packages from 22 contributors and audited 22 packages in 2.473s\n",
            "\n",
            "3 packages are looking for funding\n",
            "  run `npm fund` for details\n",
            "\n",
            "found 1 \u001b[93mmoderate\u001b[0m severity vulnerability\n",
            "  run `npm audit fix` to fix them, or `npm audit` for details\n",
            "\u001b[K\u001b[?25h"
          ]
        }
      ],
      "source": [
        "!npm install localtunnel"
      ]
    },
    {
      "cell_type": "code",
      "execution_count": 3,
      "metadata": {
        "colab": {
          "base_uri": "https://localhost:8080/"
        },
        "id": "_Hzl3kJqHa-H",
        "outputId": "38d1303b-6837-414c-c39f-e252aa52e12c"
      },
      "outputs": [
        {
          "output_type": "stream",
          "name": "stdout",
          "text": [
            "Password/Enpoint IP for localtunnel is: 34.106.152.237\n"
          ]
        }
      ],
      "source": [
        "import urllib\n",
        "print(\"Password/Enpoint IP for localtunnel is:\",urllib.request.urlopen('https://ipv4.icanhazip.com').read().decode('utf8').strip('\\n'))"
      ]
    },
    {
      "cell_type": "code",
      "source": [
        "%%writefile utils.py\n",
        "\n",
        "import yfinance as yf\n",
        "\n",
        "def get_stock_price(ticker_info):\n",
        "# obtain last 2 years stock price for plot\n",
        "# other valid period option: “1d”, “5d”, “1mo”, “3mo”, “6mo”, “1y”, “2y”, “5y”, “10y”, “ytd”, “max”\n",
        "      return ticker_info.history(period='2y')\n",
        "\n",
        "def get_cash_flow_data(ticker_info):\n",
        "\n",
        "    cash_flow_yr = ticker_info.cash_flow\n",
        "    cash_flow_yr.columns = cash_flow_yr.columns.year\n",
        "\n",
        "    cash_flow_q = ticker_info.quarterly_cashflow\n",
        "    col_names = [f'Q{q} {year}' for q, year in zip(cash_flow_q.columns.quarter, cash_flow_q.columns.year)]\n",
        "    cash_flow_q.columns = col_names\n",
        "\n",
        "    return cash_flow_yr, cash_flow_q\n",
        "\n",
        "def get_financial_data(ticker_info):\n",
        "\n",
        "    financial_yr = ticker_info.financials\n",
        "    financial_yr.columns = financial_yr.columns.year\n",
        "\n",
        "    financial_q = ticker_info.quarterly_financials\n",
        "    col_names = [f'Q{q} {year}' for q, year in zip(financial_q.columns.quarter, financial_q.columns.year)]\n",
        "    financial_q.columns = col_names\n",
        "\n",
        "    return financial_yr, financial_q"
      ],
      "metadata": {
        "colab": {
          "base_uri": "https://localhost:8080/"
        },
        "id": "8UgcdIiEvAly",
        "outputId": "2e0ef9e1-2699-4e4d-b0d0-4a2a308d9e5e"
      },
      "execution_count": 411,
      "outputs": [
        {
          "output_type": "stream",
          "name": "stdout",
          "text": [
            "Writing utils.py\n"
          ]
        }
      ]
    },
    {
      "cell_type": "code",
      "source": [
        "%%writefile plot_func.py\n",
        "\n",
        "import pandas as pd\n",
        "import plotly.figure_factory as ff\n",
        "import plotly.graph_objects as go\n",
        "\n",
        "def plot_candle_chart(df):\n",
        "\n",
        "  return go.Figure(data=[go.Candlestick(x=df.index,\n",
        "                   open=df['Open'],\n",
        "                   high=df['High'],\n",
        "                   low=df['Low'],\n",
        "                   close=df['Close'])])\n",
        "\n",
        "\n",
        "def plot_bar_chart(df_yr, df_q, vars_cat, document='Cash Flow'):\n",
        "\n",
        "  fig_yr = go.Figure()\n",
        "  fig_q = go.Figure()\n",
        "\n",
        "  for var_cat in vars_cat:\n",
        "    if 'Cash Flow' in var_cat:\n",
        "      name = var_cat.replace('Cash Flow From Continuing ' ,'')\n",
        "      name = name.replace('Activities','')\n",
        "    elif 'Total' in var_cat:\n",
        "      name = var_cat.replace('Total ', '')\n",
        "    else:\n",
        "      name = var_cat.replace('Net Income Continuous Operations','Earnings')\n",
        "\n",
        "\n",
        "    fig_yr.add_trace(go.Bar(name = name,\n",
        "                            x=df_yr.columns,\n",
        "                            y=df_yr.loc[var_cat,:]))\n",
        "\n",
        "    fig_q.add_trace(go.Bar(name = name,\n",
        "                            x=df_q.columns,\n",
        "                            y=df_q.loc[var_cat,:]))\n",
        "\n",
        "  fig_yr.update_layout(xaxis={'categoryorder':'total descending'})\n",
        "  fig_q.update_layout(xaxis={'categoryorder':'total ascending'})\n",
        "\n",
        "  # place the legend horizontally\n",
        "  fig_yr.update_layout(legend=dict(\n",
        "                                orientation=\"h\",\n",
        "                                entrywidth=100,\n",
        "                                yanchor=\"bottom\",\n",
        "                                y=1.02,\n",
        "                                xanchor=\"right\",\n",
        "                                x=1),\n",
        "                        margin=dict(\n",
        "                                l=50,\n",
        "                                r=50,\n",
        "                                b=30,\n",
        "                                t=30,\n",
        "                                pad=4\n",
        "    ),)\n",
        "\n",
        "  fig_q.update_layout(legend=dict(\n",
        "                              orientation=\"h\",\n",
        "                              entrywidth=100,\n",
        "                              yanchor=\"bottom\",\n",
        "                              y=1.02,\n",
        "                              xanchor=\"right\",\n",
        "                              x=1),\n",
        "                        margin=dict(\n",
        "                              l=50,\n",
        "                              r=50,\n",
        "                              b=30,\n",
        "                              t=30,\n",
        "                              pad=4\n",
        "    ))\n",
        "\n",
        "\n",
        "  return fig_yr, fig_q\n",
        "\n",
        "def plot_scatter(df_yr, df_q, vars_cat):\n",
        "\n",
        "  fig_yr = go.Figure()\n",
        "  fig_q = go.Figure()\n",
        "\n",
        "  colors = ['rgba(204, 204, 204, 0.95)', 'rgba(98,98,226,0.5)']\n",
        "\n",
        "\n",
        "  for var_cat, color in zip(vars_cat, colors):\n",
        "    if 'Total' in var_cat:\n",
        "      name = var_cat.replace('Total ', '')\n",
        "    else:\n",
        "      name = var_cat.replace('Net Income Continuous Operations','Earnings')\n",
        "\n",
        "    fig_yr.add_trace(go.Scatter(name = name,\n",
        "                            x=df_yr.columns,\n",
        "                            y=df_yr.loc[var_cat,:],\n",
        "                            marker=dict(color=color, line_color=color),\n",
        "                            mode='markers'))\n",
        "\n",
        "    fig_q.add_trace(go.Scatter(name = name,\n",
        "                            x=df_q.columns,\n",
        "                            y=df_q.loc[var_cat,:],\n",
        "                            marker=dict(color=color, line_color=color),\n",
        "                            mode='markers'))\n",
        "\n",
        "    fig_yr.update_traces(mode='markers', marker=dict(line_width=1, symbol='circle', size=16))\n",
        "\n",
        "    fig_q.update_traces(mode='markers', marker=dict(line_width=1, symbol='circle', size=16))\n",
        "\n",
        "  return fig_yr, fig_q\n",
        "\n",
        "def plot_sankey_diagram(df, link, report_name):\n",
        "\n",
        "  link = dict(source = df['source'],\n",
        "              target = df['target'],\n",
        "              value = df['value'],\n",
        "              color=df['link_colors'])\n",
        "\n",
        "  node = dict(label = df['label'],\n",
        "              x = df['x'],\n",
        "              y =df['y'] ,\n",
        "              color=df['colors'],\n",
        "              pad=20,\n",
        "              thickness=10)\n",
        "\n",
        "  data = go.Sankey(link = link, node=node)\n",
        "\n",
        "  # plot\n",
        "  fig = go.Figure(data)\n",
        "  fig.update_layout(\n",
        "  title_text=report_name,\n",
        "  font_family=\"Arial Black\",\n",
        "  font_color=\"Black\",\n",
        "  font_size=11,)\n",
        "\n",
        "  note = f'Source:<a href=\"https://www.sec.gov/\"\">The SEC</a> Data: <a href=link>{report_name}</a>'\n",
        "  fig.add_annotation(\n",
        "      showarrow=False,\n",
        "      text=note,\n",
        "      font=dict(size=10),\n",
        "      xref='x domain',\n",
        "      x=0.0,\n",
        "      yref='y domain',\n",
        "      y=-0.2\n",
        "      )\n",
        "\n",
        "  return fig"
      ],
      "metadata": {
        "colab": {
          "base_uri": "https://localhost:8080/"
        },
        "id": "iJG4PTPBtyKi",
        "outputId": "b6200f0e-fa97-4f70-b603-dc3c783449fc"
      },
      "execution_count": 408,
      "outputs": [
        {
          "output_type": "stream",
          "name": "stdout",
          "text": [
            "Overwriting plot_func.py\n"
          ]
        }
      ]
    },
    {
      "cell_type": "code",
      "source": [
        "%%writefile sankey_data.py\n",
        "\n",
        "import pandas as pd\n",
        "\n",
        "def obtain_tesla_data():\n",
        "  # Data from TESLA Q3 FY23 report\n",
        "  data = {\n",
        "  'labels':['Automotive sales', 'Automotive regulatory credits', 'Automotive leasing','Automotive revenue',\n",
        "            'Energy generation & storage','Services','Revenue','Gross profit',\n",
        "            'Cost of revenue','Operating profit', 'Operating expense', 'Net profit',\n",
        "            'Tax','Other','Interest','Automotive sales',\n",
        "            'Automotive leasing', 'Energy generation & storage', 'Services', 'Research & development',\n",
        "            'Selling, general & admit'],\n",
        "\n",
        "  # where link starts\n",
        "  'source':[0,1,2,3,\n",
        "            4,5,3,6,\n",
        "            6,7,7,9,\n",
        "            9,9,14,8,\n",
        "            8,8,8,10,10],\n",
        "\n",
        "  # where link ends\n",
        "  'target':[3,3,3,6,\n",
        "            6,6,6,7,\n",
        "            8,9,10,11,\n",
        "            12,13,11,15,\n",
        "            16,17,18,19,20],\n",
        "\n",
        "  # item values\n",
        "  'value':[18582,554,489,19625,\n",
        "           1559,2166,0,4178,\n",
        "           19172,1764,2414,1878,\n",
        "           37,167,282,15656,\n",
        "           301,1178,2037,1161,1253],\n",
        "\n",
        "  # define the link color\n",
        "  'link_colors':['rgb(140,140,140)','rgb(140,140,140)','rgb(140,140,140)','rgb(140,140,140)',\n",
        "                'rgb(140,140,140)','rgb(140,140,140)','rgb(140,140,140)','rgb(153,162,231)',\n",
        "                'rgb(240,128,128)','rgb(153,162,231)','rgb(240,128,128)','rgb(153,162,231)',\n",
        "                'rgb(240,128,128)','rgb(240,128,128)','rgb(240,128,128)','rgb(240,128,128)',\n",
        "                'rgb(240,128,128)','rgb(240,128,128)','rgb(240,128,128)','rgb(240,128,128)','rgb(240,128,128)'],\n",
        "\n",
        "  # separate the item color\n",
        "  'colors': ['rgb(0,0,0)','rgb(0,0,0)','rgb(0,0,0)','rgb(0,0,0)',\n",
        "             'rgb(0,0,0)','rgb(0,0,0)','rgb(0,0,0)','rgb(0,31,231)',\n",
        "             'rgb(231,41,0)','rgb(0,31,231)','rgb(231,41,0)','rgb(0,31,231)',\n",
        "             'rgb(231,41,0)','rgb(231,41,0)','rgb(231,41,0)','rgb(231,41,0)',\n",
        "             'rgb(231,41,0)','rgb(231,41,0)','rgb(231,41,0)','rgb(231,41,0)','rgb(231,41,0)'],\n",
        "\n",
        "  # define node position (x,y)\n",
        "  'x':[0,0.05,0.05,0.1,\n",
        "       0.25,0.25,0.2,0.5,\n",
        "       0.5,0.6,0.6,0.8,\n",
        "       0.65,0.65,0.75,0.6,\n",
        "       0.6,0.6,0.6,0.75,0.75],\n",
        "\n",
        "  'y':[0,0.8,0.9,0,\n",
        "       0.9,1,0,0.3,\n",
        "       0.7,0.1,0.4,0.1,\n",
        "       0.2,0.28,0.2,0.7,\n",
        "       0.9,1,1.1,0.4,0.5]\n",
        "  }\n",
        "\n",
        "  link = \"https://www.sec.gov/edgar/browse/?CIK=1318605&owner=exclude/\"\n",
        "  report_name = 'TESLA Q3 FY23'\n",
        "\n",
        "  return data, link, report_name\n",
        "\n",
        "def tesla_sankey_data():\n",
        "\n",
        "  tesla_data,link,report_name = obtain_tesla_data()\n",
        "  df = pd.DataFrame(tesla_data)\n",
        "\n",
        "  # sum up revenue\n",
        "  val = (df[df['labels']=='Automotive revenue']['value'].values[0]+\n",
        "        df[df['labels']=='Energy generation & storage']['value'].values[0]+\n",
        "        df[df['labels']=='Services']['value'].values[0])/1000\n",
        "\n",
        "  df.loc[:,'label'] = [f'{label} <br>{v/1000}B' if v != 0 else f'{label}<br>{val}B' for label, v in zip(df['labels'], df['value'])]\n",
        "\n",
        "  return df, link, report_name\n"
      ],
      "metadata": {
        "colab": {
          "base_uri": "https://localhost:8080/"
        },
        "id": "PgQEqGCLhZFw",
        "outputId": "aac88523-8c9e-4ed6-91cb-b158163051b6"
      },
      "execution_count": 394,
      "outputs": [
        {
          "output_type": "stream",
          "name": "stdout",
          "text": [
            "Overwriting sankey_data.py\n"
          ]
        }
      ]
    },
    {
      "cell_type": "code",
      "execution_count": 434,
      "metadata": {
        "colab": {
          "base_uri": "https://localhost:8080/"
        },
        "id": "bZAd1oWWEgnI",
        "outputId": "88046ac6-a1b9-41f4-8cc4-b4ac4f4d20a3"
      },
      "outputs": [
        {
          "output_type": "stream",
          "name": "stdout",
          "text": [
            "Overwriting app.py\n"
          ]
        }
      ],
      "source": [
        "%%writefile app.py\n",
        "\n",
        "import pandas as pd\n",
        "import plotly.figure_factory as ff\n",
        "import plotly.graph_objects as go\n",
        "import streamlit as st\n",
        "import yfinance as yf\n",
        "\n",
        "import sankey_data\n",
        "import plot_func\n",
        "import utils\n",
        "\n",
        "st.set_page_config(layout=\"wide\")\n",
        "\n",
        "# Layout (Sidebar)\n",
        "\n",
        "st.sidebar.markdown(\"## Data Load\")\n",
        "# select the company\n",
        "\n",
        "default_value = 'TSLA'\n",
        "\n",
        "TICKER = st.sidebar.text_input(\n",
        "    label = 'Type a Ticker Symbol',\n",
        "    value = default_value\n",
        ")\n",
        "\n",
        "# select form Yearly or Quarterly\n",
        "#PERIOD  = st.sidebar.selectbox(\n",
        "#    label = 'Select Period of Financial Data',\n",
        "#    options = ('Yearly','Quarterly'),\n",
        "#    placeholder = 'Yearly'\n",
        "#)\n",
        "\n",
        "action_button = st.sidebar.button(\n",
        "    label = 'Run'\n",
        ")\n",
        "\n",
        "st.sidebar.write('Sankey diagram is only available in TSLA')\n",
        "\n",
        "if action_button == True:\n",
        "\n",
        "    main_title = f'{TICKER} Stock Data Analysis'\n",
        "    st.title(main_title)\n",
        "\n",
        "    TICKER_INFO = yf.Ticker(TICKER)\n",
        "    info = None\n",
        "\n",
        " # add error handling\n",
        "\n",
        "    stock_price = utils.get_stock_price(TICKER_INFO)\n",
        "    cash_flow_yr, cash_flow_q = utils.get_cash_flow_data(TICKER_INFO)\n",
        "    financial_yr, financial_q = utils.get_financial_data(TICKER_INFO)\n",
        "\n",
        "    #Extract variable for cash flow bar plot\n",
        "    prefixes = ['Cash Flow','Free Cash']\n",
        "    vars_cat = [var for var in cash_flow_yr.index if var.startswith(tuple(prefixes))]\n",
        "\n",
        "    # variables for earnigns and Revenue\n",
        "    vars_cat_earning_revenue = ['Net Income Continuous Operations', 'Total Revenue']\n",
        "\n",
        "    # Layout (Content)\n",
        "    # stock price (top row)\n",
        "    top_row_subheader = 'Stock Price'\n",
        "    st.subheader(top_row_subheader)\n",
        "    st.plotly_chart(plot_func.plot_candle_chart(stock_price), use_container_width=True)\n",
        "\n",
        "    left_column, right_column = st.columns(2)\n",
        "\n",
        "    # bar plot (left column)\n",
        "    left_column_subheader = 'Cash Flow'\n",
        "    left_column.subheader(left_column_subheader)\n",
        "\n",
        "    fig_yr, fig_q = plot_func.plot_bar_chart(cash_flow_yr, cash_flow_q, vars_cat)\n",
        "    tab1, tab2 = left_column.tabs([\"Yearly\", \"Quarterly\"])\n",
        "    with tab1:\n",
        "        st.plotly_chart(fig_yr, theme=None, use_container_width=True)\n",
        "    with tab2:\n",
        "        st.plotly_chart(fig_q, theme=None, use_container_width=True)\n",
        "\n",
        "    # bar plot (right column)\n",
        "    right_column_subheader = 'Revenue & Earnings'\n",
        "    right_column.subheader(right_column_subheader)\n",
        "\n",
        "    vars_cat = ['Net Income Continuous Operations', 'Total Revenue']\n",
        "\n",
        "    fig_yr, fig_q = plot_func.plot_scatter(financial_yr, financial_q, vars_cat)\n",
        "    tab1, tab2 = right_column.tabs([\"Yearly\", \"Quarterly\"])\n",
        "    with tab1:\n",
        "        st.plotly_chart(fig_yr, theme=None, use_container_width=True)\n",
        "    with tab2:\n",
        "        st.plotly_chart(fig_q, theme=None, use_container_width=True)\n",
        "\n",
        "\n",
        "    # generate sankey diagram\n",
        "    if TICKER_INFO.ticker == 'TSLA':\n",
        "      df, link, report_name = sankey_data.tesla_sankey_data()\n",
        "      st.plotly_chart(plot_func.plot_sankey_diagram(df,link, report_name),use_container_width=True)\n"
      ]
    },
    {
      "cell_type": "code",
      "execution_count": null,
      "metadata": {
        "colab": {
          "base_uri": "https://localhost:8080/"
        },
        "id": "CJd4mmgLFSOs",
        "outputId": "47ae96b7-f1c8-4f86-8b3d-3db11fcac7f3"
      },
      "outputs": [
        {
          "output_type": "stream",
          "name": "stdout",
          "text": [
            "\u001b[K\u001b[?25hnpx: installed 22 in 3.581s\n",
            "your url is: https://polite-cats-pull.loca.lt\n"
          ]
        }
      ],
      "source": [
        "!streamlit run app.py &>/content/logs.txt & npx localtunnel --port 8501"
      ]
    }
  ],
  "metadata": {
    "colab": {
      "provenance": [],
      "authorship_tag": "ABX9TyMfyyh5PfzmqPf4M7bTSWDf",
      "include_colab_link": true
    },
    "kernelspec": {
      "display_name": "Python 3",
      "name": "python3"
    },
    "language_info": {
      "name": "python"
    }
  },
  "nbformat": 4,
  "nbformat_minor": 0
}