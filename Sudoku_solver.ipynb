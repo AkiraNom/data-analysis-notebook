{
  "cells": [
    {
      "cell_type": "markdown",
      "metadata": {
        "id": "view-in-github",
        "colab_type": "text"
      },
      "source": [
        "<a href=\"https://colab.research.google.com/github/AkiraNom/data-analysis-notebook/blob/main/Colaboratory_%E3%81%B8%E3%82%88%E3%81%86%E3%81%93%E3%81%9D.ipynb\" target=\"_parent\"><img src=\"https://colab.research.google.com/assets/colab-badge.svg\" alt=\"Open In Colab\"/></a>"
      ]
    },
    {
      "cell_type": "markdown",
      "source": [
        "# Sudoku Solver\n",
        "\n",
        "This notebook implement to solve a sudoku.\n",
        "\n",
        "Currently, you need to type a numpy array manually.\n",
        "\n",
        "In future, try to implement a function to read an image and create a numpy array."
      ],
      "metadata": {
        "id": "cPIn4VU7XKGB"
      }
    },
    {
      "cell_type": "code",
      "source": [
        "import numpy as np\n",
        "import collections"
      ],
      "metadata": {
        "id": "9VpJxHTosaXE"
      },
      "execution_count": 1,
      "outputs": []
    },
    {
      "cell_type": "code",
      "source": [
        "def make_mask_grid(grid_size: int):\n",
        "  \"\"\"\n",
        "  make a mask grid to find missing val in a grid\n",
        "\n",
        "  Parameters:\n",
        "  grid_size (int): determines the shape of the grid\n",
        "\n",
        "  Return:\n",
        "  grid (np.array): a mask grid\n",
        "  \"\"\"\n",
        "  grid = np.ones((grid_size, grid_size), dtype=int)\n",
        "  filter_size = int(np.sqrt(grid_size))\n",
        "  base_mask = np.ones((filter_size, filter_size))\n",
        "\n",
        "  grid_num = 1\n",
        "\n",
        "  for i in range(0,grid_size,filter_size):\n",
        "    for j in range(0,grid_size, filter_size):\n",
        "      grid[i:i+filter_size,j:j+filter_size] = base_mask*grid_num\n",
        "      grid_num +=1\n",
        "\n",
        "  return grid"
      ],
      "metadata": {
        "id": "SZxc0b6-GsZY"
      },
      "execution_count": 261,
      "outputs": []
    },
    {
      "cell_type": "code",
      "source": [
        "def search_missing_vals(array: np.array, max_val:int = 4, search_val:int =0):\n",
        "\n",
        "  '''\n",
        "  Search missing values in each row, column and grid of a sudoku puzzle\n",
        "\n",
        "  Parameters:\n",
        "  array (np.array): array to solve missing values\n",
        "  max_vals(int): determines the value range to fill, default = 4 (expect 4*4)\n",
        "  search_val(int): determines a search value in an array default = 0\n",
        "\n",
        "  Return:\n",
        "  missing_nums_list(dict): dictionary of missing values in each index\n",
        "  '''\n",
        "  grid_mask = make_mask_grid(max_val)\n",
        "  missing_nums_list = {}\n",
        "\n",
        "  # find index of val\n",
        "  row_idx, col_idx = np.where(array == search_val) # (row1,row2....)(col1, col2....)\n",
        "  for r, c in zip(row_idx, col_idx):\n",
        "\n",
        "    row = array[r,:]\n",
        "    col = array[:,c]\n",
        "    grid_pos = (grid_mask == grid_mask[r,c])\n",
        "    grid_val = array[grid_pos]\n",
        "\n",
        "    # search missing num in row, col, and grid\n",
        "    vals_list = list(range(1,max_val+1)) + [search_val]\n",
        "    missing_num_row = [val for val in vals_list if val not in row]\n",
        "    missing_num_col = [val for val in vals_list if val not in col]\n",
        "    missing_num_grid = [val for val in vals_list if val not in grid_val]\n",
        "\n",
        "\n",
        "    missing_nums_list[(r,c)] = missing_num_row + missing_num_col + missing_num_grid\n",
        "\n",
        "  # import pdb; pdb.set_trace()\n",
        "\n",
        "  return missing_nums_list\n"
      ],
      "metadata": {
        "id": "UUx0vgQ4LWja"
      },
      "execution_count": 268,
      "outputs": []
    },
    {
      "cell_type": "code",
      "source": [
        "def solve_sudoku(array: np.array, max_val:int = 4, search_val:int =0)->bool:\n",
        "\n",
        "  missing_nums_list = search_missing_vals(array, max_val, search_val)\n",
        "  if not missing_nums_list:\n",
        "    return True\n",
        "\n",
        "  for index, vals in missing_nums_list.items():\n",
        "\n",
        "    possible_vals = [val for val in set(vals) if vals.count(val) ==3]\n",
        "    if len(possible_vals) == 1:\n",
        "      array[index] = possible_vals[0]\n",
        "\n",
        "      return solve_sudoku(array, max_val, search_val)\n",
        "\n",
        "  return False\n"
      ],
      "metadata": {
        "id": "KC8YPK64NWhq"
      },
      "execution_count": 274,
      "outputs": []
    },
    {
      "cell_type": "markdown",
      "source": [
        "## 4X4 Test"
      ],
      "metadata": {
        "id": "amhGUayhXxiN"
      }
    },
    {
      "cell_type": "code",
      "source": [
        "arr = np.array([[0,0,0,4],[0,0,0,0],[2,0,0,3],[4,0,1,2]])\n",
        "if solve_sudoku(arr):\n",
        "  print('Solved sucessfully')\n",
        "  print(arr)\n",
        "else:\n",
        "  print('Unable to solve the puzzle')"
      ],
      "metadata": {
        "id": "c3m96PwfJ4dX",
        "outputId": "f51ab20b-49c6-4f86-9d6e-973319c13af9",
        "colab": {
          "base_uri": "https://localhost:8080/"
        }
      },
      "execution_count": 275,
      "outputs": [
        {
          "output_type": "stream",
          "name": "stdout",
          "text": [
            "Solved sucessfully\n",
            "[[1 2 3 4]\n",
            " [3 4 2 1]\n",
            " [2 1 4 3]\n",
            " [4 3 1 2]]\n"
          ]
        }
      ]
    },
    {
      "cell_type": "markdown",
      "source": [
        "## 9 X 9 Test"
      ],
      "metadata": {
        "id": "IlD-1J_-X0CA"
      }
    },
    {
      "cell_type": "code",
      "source": [
        "arr_9x9 = np.array([\n",
        "    [6,8,0,0,0,5,4,3,1],\n",
        "    [0,0,7,9,0,4,2,6,5],\n",
        "    [4,0,5,1,0,0,0,7,9],\n",
        "    [2,5,8,4,0,0,0,9,3],\n",
        "    [0,0,0,0,9,0,1,0,4],\n",
        "    [0,0,0,8,6,3,0,0,7],\n",
        "    [7,1,3,0,0,0,9,4,0],\n",
        "    [0,9,0,6,0,0,0,0,8],\n",
        "    [8,0,0,0,0,0,7,0,2]\n",
        "    ])\n",
        "if solve_sudoku(arr_9x9, max_val=9):\n",
        "  print('Solved sucessfully')\n",
        "  print(arr_9x9)\n",
        "else:\n",
        "  print('Unable to solve the puzzle')"
      ],
      "metadata": {
        "id": "snvh-5p1K7AX",
        "outputId": "b624a7c4-d343-4cee-b635-63157eca34cf",
        "colab": {
          "base_uri": "https://localhost:8080/"
        }
      },
      "execution_count": 276,
      "outputs": [
        {
          "output_type": "stream",
          "name": "stdout",
          "text": [
            "Solved sucessfully\n",
            "[[6 8 9 7 2 5 4 3 1]\n",
            " [1 3 7 9 8 4 2 6 5]\n",
            " [4 2 5 1 3 6 8 7 9]\n",
            " [2 5 8 4 7 1 6 9 3]\n",
            " [3 7 6 5 9 2 1 8 4]\n",
            " [9 4 1 8 6 3 5 2 7]\n",
            " [7 1 3 2 5 8 9 4 6]\n",
            " [5 9 2 6 4 7 3 1 8]\n",
            " [8 6 4 3 1 9 7 5 2]]\n"
          ]
        }
      ]
    },
    {
      "cell_type": "code",
      "source": [],
      "metadata": {
        "id": "IRzlE8PSYwig"
      },
      "execution_count": null,
      "outputs": []
    }
  ],
  "metadata": {
    "colab": {
      "name": "Colaboratory へようこそ",
      "provenance": [],
      "include_colab_link": true
    },
    "kernelspec": {
      "display_name": "Python 3",
      "name": "python3"
    }
  },
  "nbformat": 4,
  "nbformat_minor": 0
}
