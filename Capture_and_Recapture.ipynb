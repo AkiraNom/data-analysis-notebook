{
  "nbformat": 4,
  "nbformat_minor": 0,
  "metadata": {
    "colab": {
      "provenance": [],
      "authorship_tag": "ABX9TyPWfW0ccgiM/MTjNPtqLm5Z",
      "include_colab_link": true
    },
    "kernelspec": {
      "name": "python3",
      "display_name": "Python 3"
    },
    "language_info": {
      "name": "python"
    }
  },
  "cells": [
    {
      "cell_type": "markdown",
      "metadata": {
        "id": "view-in-github",
        "colab_type": "text"
      },
      "source": [
        "<a href=\"https://colab.research.google.com/github/AkiraNom/data-analysis-notebook/blob/main/Capture_and_Recapture.ipynb\" target=\"_parent\"><img src=\"https://colab.research.google.com/assets/colab-badge.svg\" alt=\"Open In Colab\"/></a>"
      ]
    },
    {
      "cell_type": "markdown",
      "source": [
        "The capture-mark-recapture (CMR) method is a common way to estimate the population size of animal in a region. Briefly, animals are captured using a trap which harmlessly collects animal hairs. Using DNA data from the hair, the researchers identify individual animals. See the experimental description in [the article](https://www.researchgate.net/publication/229195465_Estimating_Population_Size_of_Grizzly_Bears_Using_Hair_Capture_DNA_Profiling_and_Mark-Recapture_Analysis).\n",
        "\n"
      ],
      "metadata": {
        "id": "V5g1aK31lfwm"
      }
    },
    {
      "cell_type": "markdown",
      "source": [
        "Observation data:\n",
        "> $Number$: number of unique animals captured <br>\n",
        ">$Recapture$: number of recaptures\n",
        "\n",
        "|Year|Number|Recapture|\n",
        "|----|-|--|\n",
        "|2007|140|45|\n",
        "|2008|183|62|\n",
        "\n",
        "[collection_data](https://besjournals.onlinelibrary.wiley.com/doi/full/10.1111/2041-210X.12202) by Birtd et al., 2014. This article provides a method to diminish bias due to temporary migration."
      ],
      "metadata": {
        "id": "ZfhM9zCXkv61"
      }
    },
    {
      "cell_type": "markdown",
      "source": [
        "## Two-parameter Model\n",
        "\n",
        "I will try a model with two parameters: the number of aniamals, `N`, and the probability of observing an animal, `p`.\n",
        "\n"
      ],
      "metadata": {
        "id": "tAWmB40GrmWm"
      }
    },
    {
      "cell_type": "code",
      "source": [
        "import pandas as pd\n",
        "import numpy as np\n",
        "from scipy.stats import uniform\n",
        "from scipy.stats import multinomial\n",
        "import matplotlib.pyplot as plt\n",
        "from seaborn import JointGrid"
      ],
      "metadata": {
        "id": "CC_KDj5exNL6"
      },
      "execution_count": 1,
      "outputs": []
    },
    {
      "cell_type": "code",
      "source": [
        "import sys\n",
        "IN_COLAB = 'google.colab' in sys.modules\n",
        "\n",
        "if IN_COLAB:\n",
        "    !pip install empiricaldist\n",
        "\n",
        "from empiricaldist import Pmf"
      ],
      "metadata": {
        "colab": {
          "base_uri": "https://localhost:8080/"
        },
        "id": "kK6AXStqzQgt",
        "outputId": "e0ab62d5-545a-42c1-d2cd-40751682740a"
      },
      "execution_count": 2,
      "outputs": [
        {
          "output_type": "stream",
          "name": "stdout",
          "text": [
            "Requirement already satisfied: empiricaldist in /usr/local/lib/python3.10/dist-packages (0.6.8)\n"
          ]
        }
      ]
    },
    {
      "cell_type": "markdown",
      "source": [
        "## $N$ and $p$ estimation\n",
        "Assume that we do not have any prior information on the local population size and observation probability, I will use a *uniform distribution* ranging from 500 to 1000 for the local population size and from 0 to 0.99 for the observation probability."
      ],
      "metadata": {
        "id": "8KgpX9_VwwvZ"
      }
    },
    {
      "cell_type": "code",
      "source": [
        "def make_uniform(qs, name=None, **options):\n",
        "    \"\"\"Make a Pmf that represents a uniform distribution.\"\"\"\n",
        "    pmf = Pmf(1.0, qs, **options)\n",
        "    pmf.normalize()\n",
        "    if name:\n",
        "        pmf.index.name = name\n",
        "    return pmf"
      ],
      "metadata": {
        "id": "ty3avsmyODWy"
      },
      "execution_count": 3,
      "outputs": []
    },
    {
      "cell_type": "code",
      "source": [
        "qs = np.arange(500, 1001)\n",
        "prior_N = make_uniform(qs, name='N')\n",
        "\n",
        "qs = np.linspace(0, 0.99, num=100)\n",
        "prior_p = make_uniform(qs, name='p')"
      ],
      "metadata": {
        "id": "aYBELbDiznGN"
      },
      "execution_count": 4,
      "outputs": []
    },
    {
      "cell_type": "code",
      "source": [
        "# make a joint distribution\n",
        "X, Y = np.meshgrid(prior_p, prior_N)\n",
        "joint_prior = pd.DataFrame(X * Y, columns=prior_p.qs, index=prior_N.qs)\n",
        "joint_prior.index.names=['N']\n",
        "joint_prior.columns.names=['p']"
      ],
      "metadata": {
        "id": "XKLyyXQi0Z-L"
      },
      "execution_count": 5,
      "outputs": []
    },
    {
      "cell_type": "code",
      "source": [
        "joint_pmf = Pmf(joint_prior.stack())\n",
        "joint_pmf.head()"
      ],
      "metadata": {
        "colab": {
          "base_uri": "https://localhost:8080/",
          "height": 175
        },
        "id": "65n3vx2e07LD",
        "outputId": "2f8912f0-58d6-4146-e95b-e30a82d9bced"
      },
      "execution_count": 6,
      "outputs": [
        {
          "output_type": "execute_result",
          "data": {
            "text/plain": [
              "N    p   \n",
              "500  0.00    0.00002\n",
              "     0.01    0.00002\n",
              "     0.02    0.00002\n",
              "Name: , dtype: float64"
            ],
            "text/html": [
              "<div>\n",
              "<style scoped>\n",
              "    .dataframe tbody tr th:only-of-type {\n",
              "        vertical-align: middle;\n",
              "    }\n",
              "\n",
              "    .dataframe tbody tr th {\n",
              "        vertical-align: top;\n",
              "    }\n",
              "\n",
              "    .dataframe thead th {\n",
              "        text-align: right;\n",
              "    }\n",
              "</style>\n",
              "<table border=\"1\" class=\"dataframe\">\n",
              "  <thead>\n",
              "    <tr style=\"text-align: right;\">\n",
              "      <th></th>\n",
              "      <th></th>\n",
              "      <th>probs</th>\n",
              "    </tr>\n",
              "    <tr>\n",
              "      <th>N</th>\n",
              "      <th>p</th>\n",
              "      <th></th>\n",
              "    </tr>\n",
              "  </thead>\n",
              "  <tbody>\n",
              "    <tr>\n",
              "      <th rowspan=\"3\" valign=\"top\">500</th>\n",
              "      <th>0.00</th>\n",
              "      <td>0.00002</td>\n",
              "    </tr>\n",
              "    <tr>\n",
              "      <th>0.01</th>\n",
              "      <td>0.00002</td>\n",
              "    </tr>\n",
              "    <tr>\n",
              "      <th>0.02</th>\n",
              "      <td>0.00002</td>\n",
              "    </tr>\n",
              "  </tbody>\n",
              "</table>\n",
              "</div>"
            ]
          },
          "metadata": {},
          "execution_count": 6
        }
      ]
    },
    {
      "cell_type": "markdown",
      "source": [
        "## Update the prior with observation data\n"
      ],
      "metadata": {
        "id": "gnZ2_goT23bv"
      }
    },
    {
      "cell_type": "markdown",
      "source": [
        "## multinomial distribution\n",
        "\n",
        "The probability of observing an animal is modeled with the multinomial distribution\n",
        "$$\\frac{N!}{\\prod x_i!} \\prod y_i^{x_i}$$\n",
        "\n",
        ">$N$: actual population <br>\n",
        ">$x$: counts in each category <br>\n",
        ">$y$: probability in each category <br>"
      ],
      "metadata": {
        "id": "1kRlFzE0tkFv"
      }
    },
    {
      "cell_type": "markdown",
      "source": [
        "* `k10` is the number of animals observed in the first study but not the second,\n",
        "\n",
        "* `k01` is the number of animals observed in the second study but not the first, and\n",
        "\n",
        "* `k11` is the number of animals observed in both studies.\n",
        "<br>\n",
        "\n",
        "|Year|Number|Recapture|\n",
        "|----|-|--|\n",
        "|2007|140|45|\n",
        "|2008|183|62|\n",
        "\n",
        "<br>\n",
        "I set the 2007 data as the first study and the 2008 data as the second study. Therefore, I assume 185 (140+45) as the initial observed animals.  "
      ],
      "metadata": {
        "id": "d_3qtVSz3Mol"
      }
    },
    {
      "cell_type": "code",
      "source": [
        "k11 = 62\n",
        "k01 = 183\n",
        "k10 = 140+45-k11"
      ],
      "metadata": {
        "id": "GfdwNj-m3I_l"
      },
      "execution_count": 7,
      "outputs": []
    },
    {
      "cell_type": "code",
      "source": [
        "observed = k01 + k10 + k11\n",
        "likelihood = joint_pmf.copy()\n",
        "for N, p in joint_pmf.index:\n",
        "    k00 = N - observed\n",
        "    x = [k00, k01, k10, k11]\n",
        "    q = 1-p\n",
        "    y = [q*q, q*p, p*q, p*p]\n",
        "    likelihood[N, p] = multinomial.pmf(x, N, y)"
      ],
      "metadata": {
        "id": "oHehQIKk3eR4"
      },
      "execution_count": 8,
      "outputs": []
    },
    {
      "cell_type": "code",
      "source": [
        "posterior_pmf = joint_pmf * likelihood\n",
        "posterior_pmf.normalize()"
      ],
      "metadata": {
        "colab": {
          "base_uri": "https://localhost:8080/"
        },
        "id": "i9Nx6Zba3pde",
        "outputId": "5074729c-c46a-4f5a-a165-3612ac30b700"
      },
      "execution_count": 9,
      "outputs": [
        {
          "output_type": "execute_result",
          "data": {
            "text/plain": [
              "2.0027985687163962e-09"
            ]
          },
          "metadata": {},
          "execution_count": 9
        }
      ]
    },
    {
      "cell_type": "code",
      "source": [
        "joint_posterior = posterior_pmf.unstack()"
      ],
      "metadata": {
        "id": "5ica7VWF3ufP"
      },
      "execution_count": 10,
      "outputs": []
    },
    {
      "cell_type": "code",
      "source": [
        "def contour_plot(joint_dist):\n",
        "  low = joint_dist.to_numpy().min()\n",
        "  high = joint_dist.to_numpy().max()\n",
        "  levels = np.linspace(low, high, 6)\n",
        "  levels = levels[1:] # determine the number and the positions of the contour lines/regions\n",
        "\n",
        "  x_label = joint_dist.columns.name\n",
        "  y_label = joint_dist.index.name\n",
        "  fig = plt.contour(joint_dist.columns, joint_dist.index, joint_dist, levels=levels)\n",
        "  plt.xlabel(f'{x_label}')\n",
        "  plt.ylabel(f'{y_label}')\n",
        "  plt.title(f'Joint posterior distribution of {x_label}and {y_label}')\n",
        "\n",
        "  return fig"
      ],
      "metadata": {
        "id": "jp3TK0pY9mTq"
      },
      "execution_count": 11,
      "outputs": []
    },
    {
      "cell_type": "code",
      "source": [
        "contour_plot(joint_posterior)"
      ],
      "metadata": {
        "colab": {
          "base_uri": "https://localhost:8080/",
          "height": 489
        },
        "id": "rK6qRZ8GAJTj",
        "outputId": "4fd33efd-20d6-4e47-c88f-b66c67268c8e"
      },
      "execution_count": 12,
      "outputs": [
        {
          "output_type": "execute_result",
          "data": {
            "text/plain": [
              "<matplotlib.contour.QuadContourSet at 0x7820c78d35e0>"
            ]
          },
          "metadata": {},
          "execution_count": 12
        },
        {
          "output_type": "display_data",
          "data": {
            "text/plain": [
              "<Figure size 640x480 with 1 Axes>"
            ],
            "image/png": "[encoded data removed]"
          },
          "metadata": {}
        }
      ]
    },
    {
      "cell_type": "markdown",
      "source": [
        "Based on the contour plot, the population size is around 750 and the p is almost 0.3."
      ],
      "metadata": {
        "id": "QkhOpXmAFIxd"
      }
    },
    {
      "cell_type": "markdown",
      "source": [
        "**Joint posterior distribution** represents that the possible range of `N` and `p` given the prior distribution and the observed data. <br>\n",
        "<br>\n",
        "**Margianl distribution** is the distribution of a single variable from a joint distribution."
      ],
      "metadata": {
        "id": "feRpua2dD5kI"
      }
    },
    {
      "cell_type": "code",
      "source": [
        "def marginal(joint, axis):\n",
        "    \"\"\"Compute a marginal distribution.\"\"\"\n",
        "    return Pmf(joint.sum(axis=axis))"
      ],
      "metadata": {
        "id": "mDnEwb5N38FV"
      },
      "execution_count": 13,
      "outputs": []
    },
    {
      "cell_type": "markdown",
      "source": [
        "Extract the margianl distribution of p and N"
      ],
      "metadata": {
        "id": "9gBPt5RGE-x9"
      }
    },
    {
      "cell_type": "code",
      "source": [
        "posterior_p = marginal(joint_posterior, 0)\n",
        "posterior_N = marginal(joint_posterior, 1)"
      ],
      "metadata": {
        "id": "6Bgu05N25-cH"
      },
      "execution_count": 14,
      "outputs": []
    },
    {
      "cell_type": "code",
      "source": [
        "posterior_p.plot(color='C1',\n",
        "                  title='Posterior marginal distribution of p',\n",
        "                  ylabel='PDF')"
      ],
      "metadata": {
        "colab": {
          "base_uri": "https://localhost:8080/",
          "height": 489
        },
        "id": "ToXHAooM6Jun",
        "outputId": "f5d54180-4726-4ff6-dd1b-4bb6f5689179"
      },
      "execution_count": 15,
      "outputs": [
        {
          "output_type": "execute_result",
          "data": {
            "text/plain": [
              "<Axes: title={'center': 'Posterior marginal distribution of p'}, xlabel='p', ylabel='PDF'>"
            ]
          },
          "metadata": {},
          "execution_count": 15
        },
        {
          "output_type": "display_data",
          "data": {
            "text/plain": [
              "<Figure size 640x480 with 1 Axes>"
            ],
            "image/png": "[encoded data removed]"
          },
          "metadata": {}
        }
      ]
    },
    {
      "cell_type": "code",
      "source": [
        "posterior_N.plot(color='C3',\n",
        "                  title='Posterior marginal distribution of N',\n",
        "                  ylabel='PDF')"
      ],
      "metadata": {
        "colab": {
          "base_uri": "https://localhost:8080/",
          "height": 489
        },
        "id": "njsV4sLc6Y6X",
        "outputId": "a2b400e5-8034-46bb-d3cd-1a7a89018ff0"
      },
      "execution_count": 16,
      "outputs": [
        {
          "output_type": "execute_result",
          "data": {
            "text/plain": [
              "<Axes: title={'center': 'Posterior marginal distribution of N'}, xlabel='N', ylabel='PDF'>"
            ]
          },
          "metadata": {},
          "execution_count": 16
        },
        {
          "output_type": "display_data",
          "data": {
            "text/plain": [
              "<Figure size 640x480 with 1 Axes>"
            ],
            "image/png": "[encoded data removed]"
          },
          "metadata": {}
        }
      ]
    },
    {
      "cell_type": "code",
      "source": [
        "print(f'Mean population size is {posterior_N.mean(): .2f}\\\n",
        "       \\n90% confidence interval is {posterior_N.credible_interval(0.9)}')"
      ],
      "metadata": {
        "colab": {
          "base_uri": "https://localhost:8080/"
        },
        "id": "jYUDsleP6EVX",
        "outputId": "5a2003d0-8151-44eb-eb08-b11e31474d29"
      },
      "execution_count": 17,
      "outputs": [
        {
          "output_type": "stream",
          "name": "stdout",
          "text": [
            "Mean population size is  754.86       \n",
            "90% confidence interval is [652. 878.]\n"
          ]
        }
      ]
    },
    {
      "cell_type": "code",
      "source": [],
      "metadata": {
        "id": "2CgkM-9mFsMO"
      },
      "execution_count": 17,
      "outputs": []
    }
  ]
}